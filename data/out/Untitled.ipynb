{
 "cells": [
  {
   "cell_type": "code",
   "execution_count": 3,
   "metadata": {},
   "outputs": [
    {
     "data": {
      "application/vnd.jupyter.widget-view+json": {
       "model_id": "",
       "version_major": 2,
       "version_minor": 0
      },
      "method": "display_data"
     },
     "metadata": {},
     "output_type": "display_data"
    },
    {
     "data": {
      "application/vnd.jupyter.widget-view+json": {
       "model_id": "7b21c4b2-1fbc-466d-8adc-8715529c5799",
       "version_major": 2,
       "version_minor": 0
      },
      "method": "display_data"
     },
     "metadata": {},
     "output_type": "display_data"
    }
   ],
   "source": [
    "%%spark"
   ]
  },
  {
   "cell_type": "code",
   "execution_count": 4,
   "metadata": {},
   "outputs": [
    {
     "data": {
      "text/plain": [
       "import org.apache.spark.SparkConf\n",
       "import org.apache.spark.sql.{DataFrame, SparkSession}\n",
       "import org.apache.spark.sql.functions._\n"
      ]
     },
     "execution_count": 4,
     "metadata": {},
     "output_type": "execute_result"
    }
   ],
   "source": [
    "import org.apache.spark.SparkConf\n",
    "import org.apache.spark.sql.{DataFrame, SparkSession}\n",
    "import org.apache.spark.sql.functions._"
   ]
  },
  {
   "cell_type": "code",
   "execution_count": 6,
   "metadata": {},
   "outputs": [
    {
     "data": {
      "text/plain": [
       "org.apache.spark.sql.SparkSession$implicits$@56752c4c"
      ]
     },
     "execution_count": 6,
     "metadata": {},
     "output_type": "execute_result"
    }
   ],
   "source": [
    "\n",
    "    val spark = SparkSession\n",
    "      .builder\n",
    "      .appName(\"TP Spark : Preprocessor\")\n",
    "      .getOrCreate()\n",
    "    import spark.implicits._"
   ]
  },
  {
   "cell_type": "code",
   "execution_count": 13,
   "metadata": {},
   "outputs": [
    {
     "data": {
      "application/vnd.jupyter.widget-view+json": {
       "model_id": "",
       "version_major": 2,
       "version_minor": 0
      },
      "method": "display_data"
     },
     "metadata": {},
     "output_type": "display_data"
    },
    {
     "data": {
      "application/vnd.jupyter.widget-view+json": {
       "model_id": "fd19f731-be34-4071-ae99-63eb1891ead8",
       "version_major": 2,
       "version_minor": 0
      },
      "method": "display_data"
     },
     "metadata": {},
     "output_type": "display_data"
    }
   ],
   "source": [
    "val df: DataFrame = spark\n",
    "      .read\n",
    "      .option(\"header\", true) // utilise la première ligne du (des) fichier(s) comme header\n",
    "      .option(\"inferSchema\", \"true\") // pour inférer le type de chaque colonne (Int, String, etc.)\n",
    "      .csv(\"/Users/jeremieperes/MS Big data Télécom/P1/INF729 - Hadoop et Spark/Spark/spark_project_kickstarter_2019_2020/data/train_clean.csv\")\n"
   ]
  },
  {
   "cell_type": "code",
   "execution_count": 14,
   "metadata": {},
   "outputs": [
    {
     "data": {
      "application/vnd.jupyter.widget-view+json": {
       "model_id": "801356ae-e41f-4b88-b6e0-40c717d68a75",
       "version_major": 2,
       "version_minor": 0
      },
      "method": "display_data"
     },
     "metadata": {},
     "output_type": "display_data"
    }
   ],
   "source": [
    " val dfCasted: DataFrame = df\n",
    "      .withColumn(\"goal\", $\"goal\".cast(\"Int\"))\n",
    "      .withColumn(\"backers_count\", $\"backers_count\".cast(\"Int\"))\n",
    "      .withColumn(\"final_status\", $\"final_status\".cast(\"Int\"))"
   ]
  },
  {
   "cell_type": "code",
   "execution_count": 25,
   "metadata": {},
   "outputs": [
    {
     "data": {
      "text/plain": [
       "cleanCountry: (country: String, currency: String)String\n",
       "cleanCurrency: (currency: String)String\n"
      ]
     },
     "execution_count": 25,
     "metadata": {},
     "output_type": "execute_result"
    }
   ],
   "source": [
    " def cleanCountry(country: String, currency: String): String = {\n",
    "      if (country == null)\n",
    "        currency\n",
    "      if (country.length!=2)\n",
    "        null\n",
    "      else\n",
    "        country\n",
    "    }\n",
    "\n",
    "    def cleanCurrency(currency:String): String = {\n",
    "      if (currency.length != 3)\n",
    "        null\n",
    "      else\n",
    "        currency\n",
    "    }"
   ]
  },
  {
   "cell_type": "code",
   "execution_count": 26,
   "metadata": {},
   "outputs": [
    {
     "data": {
      "application/vnd.jupyter.widget-view+json": {
       "model_id": "70d69f21-d34c-4e6f-8624-aa11401a1bbb",
       "version_major": 2,
       "version_minor": 0
      },
      "method": "display_data"
     },
     "metadata": {},
     "output_type": "display_data"
    }
   ],
   "source": [
    "val df2: DataFrame = dfCasted.drop(\"disable_communication\")\n",
    "\n",
    "    val dfNoFutur : DataFrame = df2.drop(\"backers_count\",\"state_changed_at\")\n",
    "\n",
    "    val cleanCountryUdf = udf(cleanCountry _)\n",
    "    val cleanCurrencyUdf = udf(cleanCurrency _)\n",
    "\n",
    "    val dfCountryCurrency = dfNoFutur\n",
    "      .withColumn(\"country2\",cleanCountryUdf($\"country\",$\"currency\"))\n",
    "      .withColumn(\"currency2\",cleanCurrencyUdf($\"currency\"))\n",
    "      .drop(\"country\",\"currency\")"
   ]
  },
  {
   "cell_type": "code",
   "execution_count": 16,
   "metadata": {},
   "outputs": [
    {
     "data": {
      "application/vnd.jupyter.widget-view+json": {
       "model_id": "01d4d494-24de-47ea-b36c-31fa9d9ca35d",
       "version_major": 2,
       "version_minor": 0
      },
      "method": "display_data"
     },
     "metadata": {},
     "output_type": "display_data"
    }
   ],
   "source": [
    " val dfCleaned = dfCountryCurrency.filter($\"final_status\"===0 || $\"final_status\"===1)\n",
    "      .withColumn(\"days_campaign\",datediff(from_unixtime($\"deadline\"),from_unixtime($\"launched_at\")))\n",
    "      .withColumn(\"launched_at\",$\"launched_at\".cast(\"Float\"))\n",
    "      .withColumn(\"created_at\",$\"created_at\".cast(\"Float\"))\n",
    "      .withColumn(\"hours_prepa\",round(($\"launched_at\"-$\"created_at\")/3600,3))\n",
    "      .drop(\"launched_at\",\"deadline\",\"created_at\")\n",
    "      .withColumn(\"name\",lower($\"name\"))\n",
    "      .withColumn(\"desc\",lower($\"desc\"))\n",
    "      .withColumn(\"keywords\",lower($\"keywords\"))\n",
    "      .withColumn(\"text\",concat_ws(\" \",$\"name\",$\"desc\",$\"keywords\"))\n",
    "      .na.fill(Map(\"days_campaign\" -> -1, \"hours_prepa\" -> -1,\"goal\" -> -1,\"country2\" -> \"unknown\",\"currency2\" -> \"unknown\"))"
   ]
  },
  {
   "cell_type": "code",
   "execution_count": 29,
   "metadata": {},
   "outputs": [
    {
     "ename": "org.apache.spark.SparkException",
     "evalue": " Task not serializable",
     "output_type": "error",
     "traceback": [
      "\u001b[1;31morg.apache.spark.SparkException: Task not serializable\u001b[0;0m",
      "\u001b[1;31m  at org.apache.spark.util.ClosureCleaner$.ensureSerializable(ClosureCleaner.scala:403)\u001b[0;0m",
      "\u001b[1;31m  at org.apache.spark.util.ClosureCleaner$.org$apache$spark$util$ClosureCleaner$$clean(ClosureCleaner.scala:393)\u001b[0;0m",
      "\u001b[1;31m  at org.apache.spark.util.ClosureCleaner$.clean(ClosureCleaner.scala:162)\u001b[0;0m",
      "\u001b[1;31m  at org.apache.spark.SparkContext.clean(SparkContext.scala:2326)\u001b[0;0m",
      "\u001b[1;31m  at org.apache.spark.rdd.RDD$$anonfun$mapPartitionsWithIndex$1.apply(RDD.scala:850)\u001b[0;0m",
      "\u001b[1;31m  at org.apache.spark.rdd.RDD$$anonfun$mapPartitionsWithIndex$1.apply(RDD.scala:849)\u001b[0;0m",
      "\u001b[1;31m  at org.apache.spark.rdd.RDDOperationScope$.withScope(RDDOperationScope.scala:151)\u001b[0;0m",
      "\u001b[1;31m  at org.apache.spark.rdd.RDDOperationScope$.withScope(RDDOperationScope.scala:112)\u001b[0;0m",
      "\u001b[1;31m  at org.apache.spark.rdd.RDD.withScope(RDD.scala:363)\u001b[0;0m",
      "\u001b[1;31m  at org.apache.spark.rdd.RDD.mapPartitionsWithIndex(RDD.scala:849)\u001b[0;0m",
      "\u001b[1;31m  at org.apache.spark.sql.execution.WholeStageCodegenExec.doExecute(WholeStageCodegenExec.scala:630)\u001b[0;0m",
      "\u001b[1;31m  at org.apache.spark.sql.execution.SparkPlan$$anonfun$execute$1.apply(SparkPlan.scala:131)\u001b[0;0m",
      "\u001b[1;31m  at org.apache.spark.sql.execution.SparkPlan$$anonfun$execute$1.apply(SparkPlan.scala:127)\u001b[0;0m",
      "\u001b[1;31m  at org.apache.spark.sql.execution.SparkPlan$$anonfun$executeQuery$1.apply(SparkPlan.scala:155)\u001b[0;0m",
      "\u001b[1;31m  at org.apache.spark.rdd.RDDOperationScope$.withScope(RDDOperationScope.scala:151)\u001b[0;0m",
      "\u001b[1;31m  at org.apache.spark.sql.execution.SparkPlan.executeQuery(SparkPlan.scala:152)\u001b[0;0m",
      "\u001b[1;31m  at org.apache.spark.sql.execution.SparkPlan.execute(SparkPlan.scala:127)\u001b[0;0m",
      "\u001b[1;31m  at org.apache.spark.sql.execution.SparkPlan.getByteArrayRdd(SparkPlan.scala:247)\u001b[0;0m",
      "\u001b[1;31m  at org.apache.spark.sql.execution.SparkPlan.executeTake(SparkPlan.scala:339)\u001b[0;0m",
      "\u001b[1;31m  at org.apache.spark.sql.execution.CollectLimitExec.executeCollect(limit.scala:38)\u001b[0;0m",
      "\u001b[1;31m  at org.apache.spark.sql.Dataset.org$apache$spark$sql$Dataset$$collectFromPlan(Dataset.scala:3389)\u001b[0;0m",
      "\u001b[1;31m  at org.apache.spark.sql.Dataset$$anonfun$head$1.apply(Dataset.scala:2550)\u001b[0;0m",
      "\u001b[1;31m  at org.apache.spark.sql.Dataset$$anonfun$head$1.apply(Dataset.scala:2550)\u001b[0;0m",
      "\u001b[1;31m  at org.apache.spark.sql.Dataset$$anonfun$52.apply(Dataset.scala:3370)\u001b[0;0m",
      "\u001b[1;31m  at org.apache.spark.sql.execution.SQLExecution$$anonfun$withNewExecutionId$1.apply(SQLExecution.scala:78)\u001b[0;0m",
      "\u001b[1;31m  at org.apache.spark.sql.execution.SQLExecution$.withSQLConfPropagated(SQLExecution.scala:125)\u001b[0;0m",
      "\u001b[1;31m  at org.apache.spark.sql.execution.SQLExecution$.withNewExecutionId(SQLExecution.scala:73)\u001b[0;0m",
      "\u001b[1;31m  at org.apache.spark.sql.Dataset.withAction(Dataset.scala:3369)\u001b[0;0m",
      "\u001b[1;31m  at org.apache.spark.sql.Dataset.head(Dataset.scala:2550)\u001b[0;0m",
      "\u001b[1;31m  at org.apache.spark.sql.Dataset.take(Dataset.scala:2764)\u001b[0;0m",
      "\u001b[0;31m  at com.twosigma.beakerx.scala.spark.SparkDisplayers$.com$twosigma$beakerx$scala$spark$SparkDisplayers$$takeRows(SparkDisplayers.scala:68)\u001b[0;0m",
      "\u001b[0;31m  at com.twosigma.beakerx.scala.spark.SparkDisplayers$.tableDisplay(SparkDisplayers.scala:61)\u001b[0;0m",
      "\u001b[0;31m  at com.twosigma.beakerx.scala.spark.SparkDisplayers$.displayDataset(SparkDisplayers.scala:55)\u001b[0;0m",
      "\u001b[0;31m  at DatasetOps.display(<console>:14)\u001b[0;0m",
      "\u001b[0;31m  ... 54 elided\u001b[0;0m",
      "\u001b[0;31mCaused by: java.io.NotSerializableException: org.apache.spark.SparkContext\u001b[0;0m",
      "\u001b[0;31mSerialization stack:\u001b[0;0m",
      "\u001b[0;31m\t- object not serializable (class: org.apache.spark.SparkContext, value: org.apache.spark.SparkContext@3fb182e)\u001b[0;0m",
      "\u001b[0;31m\t- field (class: $iw, name: sc, type: class org.apache.spark.SparkContext)\u001b[0;0m",
      "\u001b[0;31m\t- object (class $iw, $iw@88ea042)\u001b[0;0m",
      "\u001b[0;31m\t- field (class: $iw, name: $iw, type: class $iw)\u001b[0;0m",
      "\u001b[0;31m\t- object (class $iw, $iw@6a880468)\u001b[0;0m",
      "\u001b[0;31m\t- field (class: $iw, name: $iw, type: class $iw)\u001b[0;0m",
      "\u001b[0;31m\t- object (class $iw, $iw@71718871)\u001b[0;0m",
      "\u001b[0;31m\t- field (class: $iw, name: $iw, type: class $iw)\u001b[0;0m",
      "\u001b[0;31m\t- object (class $iw, $iw@1052a4f1)\u001b[0;0m",
      "\u001b[0;31m\t- field (class: $iw, name: $iw, type: class $iw)\u001b[0;0m",
      "\u001b[0;31m\t- object (class $iw, $iw@670352d6)\u001b[0;0m",
      "\u001b[0;31m\t- field (class: $iw, name: $iw, type: class $iw)\u001b[0;0m",
      "\u001b[0;31m\t- object (class $iw, $iw@2921725e)\u001b[0;0m",
      "\u001b[0;31m\t- field (class: $iw, name: $iw, type: class $iw)\u001b[0;0m",
      "\u001b[0;31m\t- object (class $iw, $iw@660b3d11)\u001b[0;0m",
      "\u001b[0;31m\t- field (class: $iw, name: $iw, type: class $iw)\u001b[0;0m",
      "\u001b[0;31m\t- object (class $iw, $iw@2e4713e4)\u001b[0;0m",
      "\u001b[0;31m\t- field (class: $iw, name: $iw, type: class $iw)\u001b[0;0m",
      "\u001b[0;31m\t- object (class $iw, $iw@f35f91)\u001b[0;0m",
      "\u001b[0;31m\t- field (class: $iw, name: $iw, type: class $iw)\u001b[0;0m",
      "\u001b[0;31m\t- object (class $iw, $iw@665b20c9)\u001b[0;0m",
      "\u001b[0;31m\t- field (class: $iw, name: $iw, type: class $iw)\u001b[0;0m",
      "\u001b[0;31m\t- object (class $iw, $iw@7777ba48)\u001b[0;0m",
      "\u001b[0;31m\t- field (class: $iw, name: $iw, type: class $iw)\u001b[0;0m",
      "\u001b[0;31m\t- object (class $iw, $iw@6422331d)\u001b[0;0m",
      "\u001b[0;31m\t- field (class: $iw, name: $iw, type: class $iw)\u001b[0;0m",
      "\u001b[0;31m\t- object (class $iw, $iw@7a48fda7)\u001b[0;0m",
      "\u001b[0;31m\t- field (class: $iw, name: $iw, type: class $iw)\u001b[0;0m",
      "\u001b[0;31m\t- object (class $iw, $iw@62eb11f1)\u001b[0;0m",
      "\u001b[0;31m\t- field (class: $iw, name: $iw, type: class $iw)\u001b[0;0m",
      "\u001b[0;31m\t- object (class $iw, $iw@5873b9af)\u001b[0;0m",
      "\u001b[0;31m\t- field (class: $iw, name: $iw, type: class $iw)\u001b[0;0m",
      "\u001b[0;31m\t- object (class $iw, $iw@5e39ab2d)\u001b[0;0m",
      "\u001b[0;31m\t- field (class: $iw, name: $iw, type: class $iw)\u001b[0;0m",
      "\u001b[0;31m\t- object (class $iw, $iw@4b23de)\u001b[0;0m",
      "\u001b[0;31m\t- field (class: $iw, name: $iw, type: class $iw)\u001b[0;0m",
      "\u001b[0;31m\t- object (class $iw, $iw@18d865fb)\u001b[0;0m",
      "\u001b[0;31m\t- field (class: $iw, name: $iw, type: class $iw)\u001b[0;0m",
      "\u001b[0;31m\t- object (class $iw, $iw@213e6f02)\u001b[0;0m",
      "\u001b[0;31m\t- field (class: $iw, name: $iw, type: class $iw)\u001b[0;0m",
      "\u001b[0;31m\t- object (class $iw, $iw@45a6d868)\u001b[0;0m",
      "\u001b[0;31m\t- field (class: $line27.$read, name: $iw, type: class $iw)\u001b[0;0m",
      "\u001b[0;31m\t- object (class $line27.$read, $line27.$read@4973c216)\u001b[0;0m",
      "\u001b[0;31m\t- field (class: $iw, name: $line27$read, type: class $line27.$read)\u001b[0;0m",
      "\u001b[0;31m\t- object (class $iw, $iw@44cdacae)\u001b[0;0m",
      "\u001b[0;31m\t- field (class: $iw, name: $iw, type: class $iw)\u001b[0;0m",
      "\u001b[0;31m\t- object (class $iw, $iw@49562758)\u001b[0;0m",
      "\u001b[0;31m\t- field (class: $iw, name: $iw, type: class $iw)\u001b[0;0m",
      "\u001b[0;31m\t- object (class $iw, $iw@6f9d1057)\u001b[0;0m",
      "\u001b[0;31m\t- field (class: $iw, name: $iw, type: class $iw)\u001b[0;0m",
      "\u001b[0;31m\t- object (class $iw, $iw@4648ffd9)\u001b[0;0m",
      "\u001b[0;31m\t- field (class: $iw, name: $iw, type: class $iw)\u001b[0;0m",
      "\u001b[0;31m\t- object (class $iw, $iw@6db7c237)\u001b[0;0m",
      "\u001b[0;31m\t- field (class: $iw, name: $iw, type: class $iw)\u001b[0;0m",
      "\u001b[0;31m\t- object (class $iw, $iw@204853a5)\u001b[0;0m",
      "\u001b[0;31m\t- field (class: $iw, name: $iw, type: class $iw)\u001b[0;0m",
      "\u001b[0;31m\t- object (class $iw, $iw@84f30d)\u001b[0;0m",
      "\u001b[0;31m\t- field (class: $iw, name: $iw, type: class $iw)\u001b[0;0m",
      "\u001b[0;31m\t- object (class $iw, $iw@352a4d4c)\u001b[0;0m",
      "\u001b[0;31m\t- field (class: $iw, name: $iw, type: class $iw)\u001b[0;0m",
      "\u001b[0;31m\t- object (class $iw, $iw@34f3954b)\u001b[0;0m",
      "\u001b[0;31m\t- field (class: $iw, name: $iw, type: class $iw)\u001b[0;0m",
      "\u001b[0;31m\t- object (class $iw, $iw@67b08949)\u001b[0;0m",
      "\u001b[0;31m\t- field (class: $iw, name: $iw, type: class $iw)\u001b[0;0m",
      "\u001b[0;31m\t- object (class $iw, $iw@1f3f27d3)\u001b[0;0m",
      "\u001b[0;31m\t- field (class: $iw, name: $iw, type: class $iw)\u001b[0;0m",
      "\u001b[0;31m\t- object (class $iw, $iw@36e366f3)\u001b[0;0m",
      "\u001b[0;31m\t- field (class: $iw, name: $iw, type: class $iw)\u001b[0;0m",
      "\u001b[0;31m\t- object (class $iw, $iw@1a1c767f)\u001b[0;0m",
      "\u001b[0;31m\t- field (class: $iw, name: $iw, type: class $iw)\u001b[0;0m",
      "\u001b[0;31m\t- object (class $iw, $iw@447b58d3)\u001b[0;0m",
      "\u001b[0;31m\t- field (class: $iw, name: $iw, type: class $iw)\u001b[0;0m",
      "\u001b[0;31m\t- object (class $iw, $iw@48eaf5a1)\u001b[0;0m",
      "\u001b[0;31m\t- field (class: $iw, name: $iw, type: class $iw)\u001b[0;0m",
      "\u001b[0;31m\t- object (class $iw, $iw@38a016c1)\u001b[0;0m",
      "\u001b[0;31m\t- field (class: $iw, name: $iw, type: class $iw)\u001b[0;0m",
      "\u001b[0;31m\t- object (class $iw, $iw@6c8c6899)\u001b[0;0m",
      "\u001b[0;31m\t- field (class: $iw, name: $iw, type: class $iw)\u001b[0;0m",
      "\u001b[0;31m\t- object (class $iw, $iw@5f431c18)\u001b[0;0m",
      "\u001b[0;31m\t- field (class: $iw, name: $iw, type: class $iw)\u001b[0;0m",
      "\u001b[0;31m\t- object (class $iw, $iw@5f393e9b)\u001b[0;0m",
      "\u001b[0;31m\t- field (class: $line33.$read, name: $iw, type: class $iw)\u001b[0;0m",
      "\u001b[0;31m\t- object (class $line33.$read, $line33.$read@7fc9369d)\u001b[0;0m",
      "\u001b[0;31m\t- field (class: $iw, name: $line33$read, type: class $line33.$read)\u001b[0;0m",
      "\u001b[0;31m\t- object (class $iw, $iw@4e54a428)\u001b[0;0m",
      "\u001b[0;31m\t- field (class: $iw, name: $iw, type: class $iw)\u001b[0;0m",
      "\u001b[0;31m\t- object (class $iw, $iw@1ebd5f01)\u001b[0;0m",
      "\u001b[0;31m\t- field (class: $iw, name: $iw, type: class $iw)\u001b[0;0m",
      "\u001b[0;31m\t- object (class $iw, $iw@636b324d)\u001b[0;0m",
      "\u001b[0;31m\t- field (class: $iw, name: $iw, type: class $iw)\u001b[0;0m",
      "\u001b[0;31m\t- object (class $iw, $iw@2076c73f)\u001b[0;0m",
      "\u001b[0;31m\t- field (class: $iw, name: $iw, type: class $iw)\u001b[0;0m",
      "\u001b[0;31m\t- object (class $iw, $iw@bc8950)\u001b[0;0m",
      "\u001b[0;31m\t- field (class: $iw, name: $iw, type: class $iw)\u001b[0;0m",
      "\u001b[0;31m\t- object (class $iw, $iw@322f49d7)\u001b[0;0m",
      "\u001b[0;31m\t- field (class: $iw, name: $iw, type: class $iw)\u001b[0;0m",
      "\u001b[0;31m\t- object (class $iw, $iw@3b4a62be)\u001b[0;0m",
      "\u001b[0;31m\t- field (class: $iw, name: $iw, type: class $iw)\u001b[0;0m",
      "\u001b[0;31m\t- object (class $iw, $iw@5f57001c)\u001b[0;0m",
      "\u001b[0;31m\t- field (class: $iw, name: $iw, type: class $iw)\u001b[0;0m",
      "\u001b[0;31m\t- object (class $iw, $iw@73cf31f3)\u001b[0;0m",
      "\u001b[0;31m\t- field (class: $iw, name: $iw, type: class $iw)\u001b[0;0m",
      "\u001b[0;31m\t- object (class $iw, $iw@267ca6f6)\u001b[0;0m",
      "\u001b[0;31m\t- field (class: $iw, name: $iw, type: class $iw)\u001b[0;0m",
      "\u001b[0;31m\t- object (class $iw, $iw@e3f634e)\u001b[0;0m",
      "\u001b[0;31m\t- field (class: $iw, name: $iw, type: class $iw)\u001b[0;0m",
      "\u001b[0;31m\t- object (class $iw, $iw@3564b636)\u001b[0;0m",
      "\u001b[0;31m\t- field (class: $iw, name: $iw, type: class $iw)\u001b[0;0m",
      "\u001b[0;31m\t- object (class $iw, $iw@6e20e58c)\u001b[0;0m",
      "\u001b[0;31m\t- field (class: $iw, name: $iw, type: class $iw)\u001b[0;0m",
      "\u001b[0;31m\t- object (class $iw, $iw@48f09124)\u001b[0;0m",
      "\u001b[0;31m\t- field (class: $iw, name: $iw, type: class $iw)\u001b[0;0m",
      "\u001b[0;31m\t- object (class $iw, $iw@7f100ee9)\u001b[0;0m",
      "\u001b[0;31m\t- field (class: $iw, name: $iw, type: class $iw)\u001b[0;0m",
      "\u001b[0;31m\t- object (class $iw, $iw@222d5ea2)\u001b[0;0m",
      "\u001b[0;31m\t- field (class: $iw, name: $iw, type: class $iw)\u001b[0;0m",
      "\u001b[0;31m\t- object (class $iw, $iw@3286ea66)\u001b[0;0m",
      "\u001b[0;31m\t- field (class: $iw, name: $iw, type: class $iw)\u001b[0;0m",
      "\u001b[0;31m\t- object (class $iw, $iw@c69147c)\u001b[0;0m",
      "\u001b[0;31m\t- field (class: $iw, name: $iw, type: class $iw)\u001b[0;0m",
      "\u001b[0;31m\t- object (class $iw, $iw@50c80067)\u001b[0;0m",
      "\u001b[0;31m\t- field (class: $iw, name: $iw, type: class $iw)\u001b[0;0m",
      "\u001b[0;31m\t- object (class $iw, $iw@1b8079a4)\u001b[0;0m",
      "\u001b[0;31m\t- field (class: $iw, name: $iw, type: class $iw)\u001b[0;0m",
      "\u001b[0;31m\t- object (class $iw, $iw@7823eb96)\u001b[0;0m",
      "\u001b[0;31m\t- field (class: $iw, name: $iw, type: class $iw)\u001b[0;0m",
      "\u001b[0;31m\t- object (class $iw, $iw@7f6aac78)\u001b[0;0m",
      "\u001b[0;31m\t- field (class: $iw, name: $iw, type: class $iw)\u001b[0;0m",
      "\u001b[0;31m\t- object (class $iw, $iw@bb54a1)\u001b[0;0m",
      "\u001b[0;31m\t- field (class: $iw, name: $iw, type: class $iw)\u001b[0;0m",
      "\u001b[0;31m\t- object (class $iw, $iw@cab336b)\u001b[0;0m",
      "\u001b[0;31m\t- field (class: $iw, name: $iw, type: class $iw)\u001b[0;0m",
      "\u001b[0;31m\t- object (class $iw, $iw@4827d783)\u001b[0;0m",
      "\u001b[0;31m\t- field (class: $iw, name: $iw, type: class $iw)\u001b[0;0m",
      "\u001b[0;31m\t- object (class $iw, $iw@42643595)\u001b[0;0m",
      "\u001b[0;31m\t- field (class: $iw, name: $iw, type: class $iw)\u001b[0;0m",
      "\u001b[0;31m\t- object (class $iw, $iw@844e355)\u001b[0;0m",
      "\u001b[0;31m\t- field (class: $line45.$read, name: $iw, type: class $iw)\u001b[0;0m",
      "\u001b[0;31m\t- object (class $line45.$read, $line45.$read@417fdd23)\u001b[0;0m",
      "\u001b[0;31m\t- field (class: $iw, name: $line45$read, type: class $line45.$read)\u001b[0;0m",
      "\u001b[0;31m\t- object (class $iw, $iw@3dd99d33)\u001b[0;0m",
      "\u001b[0;31m\t- field (class: $iw, name: $iw, type: class $iw)\u001b[0;0m",
      "\u001b[0;31m\t- object (class $iw, $iw@108c5f90)\u001b[0;0m",
      "\u001b[0;31m\t- field (class: $iw, name: $iw, type: class $iw)\u001b[0;0m",
      "\u001b[0;31m\t- object (class $iw, $iw@515528d6)\u001b[0;0m",
      "\u001b[0;31m\t- field (class: $iw, name: $iw, type: class $iw)\u001b[0;0m",
      "\u001b[0;31m\t- object (class $iw, $iw@38dfeaf9)\u001b[0;0m",
      "\u001b[0;31m\t- field (class: $iw, name: $iw, type: class $iw)\u001b[0;0m",
      "\u001b[0;31m\t- object (class $iw, $iw@59bca232)\u001b[0;0m",
      "\u001b[0;31m\t- field (class: $iw, name: $iw, type: class $iw)\u001b[0;0m",
      "\u001b[0;31m\t- object (class $iw, $iw@1dddce83)\u001b[0;0m",
      "\u001b[0;31m\t- field (class: $iw, name: $iw, type: class $iw)\u001b[0;0m",
      "\u001b[0;31m\t- object (class $iw, $iw@455b985a)\u001b[0;0m",
      "\u001b[0;31m\t- field (class: $iw, name: $iw, type: class $iw)\u001b[0;0m",
      "\u001b[0;31m\t- object (class $iw, $iw@3b238740)\u001b[0;0m",
      "\u001b[0;31m\t- field (class: $iw, name: $iw, type: class $iw)\u001b[0;0m",
      "\u001b[0;31m\t- object (class $iw, $iw@6520a382)\u001b[0;0m",
      "\u001b[0;31m\t- field (class: $iw, name: $iw, type: class $iw)\u001b[0;0m",
      "\u001b[0;31m\t- object (class $iw, $iw@7d292d15)\u001b[0;0m",
      "\u001b[0;31m\t- field (class: $iw, name: $iw, type: class $iw)\u001b[0;0m",
      "\u001b[0;31m\t- object (class $iw, $iw@3e0cad8)\u001b[0;0m",
      "\u001b[0;31m\t- field (class: $iw, name: $iw, type: class $iw)\u001b[0;0m",
      "\u001b[0;31m\t- object (class $iw, $iw@2462db61)\u001b[0;0m",
      "\u001b[0;31m\t- field (class: $iw, name: $iw, type: class $iw)\u001b[0;0m",
      "\u001b[0;31m\t- object (class $iw, $iw@648413f5)\u001b[0;0m",
      "\u001b[0;31m\t- field (class: $iw, name: $iw, type: class $iw)\u001b[0;0m",
      "\u001b[0;31m\t- object (class $iw, $iw@46dd2932)\u001b[0;0m",
      "\u001b[0;31m\t- field (class: $iw, name: $iw, type: class $iw)\u001b[0;0m",
      "\u001b[0;31m\t- object (class $iw, $iw@40908547)\u001b[0;0m",
      "\u001b[0;31m\t- field (class: $iw, name: $iw, type: class $iw)\u001b[0;0m",
      "\u001b[0;31m\t- object (class $iw, $iw@1b1394e)\u001b[0;0m",
      "\u001b[0;31m\t- field (class: $iw, name: $iw, type: class $iw)\u001b[0;0m",
      "\u001b[0;31m\t- object (class $iw, $iw@6a325afc)\u001b[0;0m",
      "\u001b[0;31m\t- field (class: $iw, name: $iw, type: class $iw)\u001b[0;0m",
      "\u001b[0;31m\t- object (class $iw, $iw@6d8d75b5)\u001b[0;0m",
      "\u001b[0;31m\t- field (class: $iw, name: $iw, type: class $iw)\u001b[0;0m",
      "\u001b[0;31m\t- object (class $iw, $iw@65afe1ee)\u001b[0;0m",
      "\u001b[0;31m\t- field (class: $iw, name: $iw, type: class $iw)\u001b[0;0m",
      "\u001b[0;31m\t- object (class $iw, $iw@4c59bd0e)\u001b[0;0m",
      "\u001b[0;31m\t- field (class: $iw, name: $iw, type: class $iw)\u001b[0;0m",
      "\u001b[0;31m\t- object (class $iw, $iw@5afdccb)\u001b[0;0m",
      "\u001b[0;31m\t- field (class: $iw, name: $iw, type: class $iw)\u001b[0;0m",
      "\u001b[0;31m\t- object (class $iw, $iw@4919cef5)\u001b[0;0m",
      "\u001b[0;31m\t- field (class: $iw, name: $iw, type: class $iw)\u001b[0;0m",
      "\u001b[0;31m\t- object (class $iw, $iw@257ac2d)\u001b[0;0m",
      "\u001b[0;31m\t- field (class: $iw, name: $iw, type: class $iw)\u001b[0;0m",
      "\u001b[0;31m\t- object (class $iw, $iw@582580c7)\u001b[0;0m",
      "\u001b[0;31m\t- field (class: $iw, name: $iw, type: class $iw)\u001b[0;0m",
      "\u001b[0;31m\t- object (class $iw, $iw@4ded0164)\u001b[0;0m",
      "\u001b[0;31m\t- field (class: $iw, name: $iw, type: class $iw)\u001b[0;0m",
      "\u001b[0;31m\t- object (class $iw, $iw@33f9a17f)\u001b[0;0m",
      "\u001b[0;31m\t- field (class: $iw, name: $iw, type: class $iw)\u001b[0;0m",
      "\u001b[0;31m\t- object (class $iw, $iw@7270cc57)\u001b[0;0m",
      "\u001b[0;31m\t- field (class: $iw, name: $iw, type: class $iw)\u001b[0;0m",
      "\u001b[0;31m\t- object (class $iw, $iw@1a1de440)\u001b[0;0m",
      "\u001b[0;31m\t- field (class: $iw, name: $iw, type: class $iw)\u001b[0;0m",
      "\u001b[0;31m\t- object (class $iw, $iw@29da1785)\u001b[0;0m",
      "\u001b[0;31m\t- field (class: $line46.$read, name: $iw, type: class $iw)\u001b[0;0m",
      "\u001b[0;31m\t- object (class $line46.$read, $line46.$read@4ee34018)\u001b[0;0m",
      "\u001b[0;31m\t- field (class: $iw, name: $line46$read, type: class $line46.$read)\u001b[0;0m",
      "\u001b[0;31m\t- object (class $iw, $iw@49f60e58)\u001b[0;0m",
      "\u001b[0;31m\t- field (class: $iw, name: $outer, type: class $iw)\u001b[0;0m",
      "\u001b[0;31m\t- object (class $iw, $iw@58d23b03)\u001b[0;0m",
      "\u001b[0;31m\t- field (class: $anonfun$1, name: $outer, type: class $iw)\u001b[0;0m",
      "\u001b[0;31m\t- object (class $anonfun$1, <function2>)\u001b[0;0m",
      "\u001b[0;31m\t- element of array (index: 3)\u001b[0;0m",
      "\u001b[0;31m\t- array (class [Ljava.lang.Object;, size 7)\u001b[0;0m",
      "\u001b[0;31m\t- field (class: org.apache.spark.sql.execution.WholeStageCodegenExec$$anonfun$13, name: references$1, type: class [Ljava.lang.Object;)\u001b[0;0m",
      "\u001b[0;31m\t- object (class org.apache.spark.sql.execution.WholeStageCodegenExec$$anonfun$13, <function2>)\u001b[0;0m",
      "\u001b[0;31m  at org.apache.spark.serializer.SerializationDebugger$.improveException(SerializationDebugger.scala:40)\u001b[0;0m",
      "\u001b[0;31m  at org.apache.spark.serializer.JavaSerializationStream.writeObject(JavaSerializer.scala:46)\u001b[0;0m",
      "\u001b[0;31m  at org.apache.spark.serializer.JavaSerializerInstance.serialize(JavaSerializer.scala:100)\u001b[0;0m",
      "\u001b[0;31m  at org.apache.spark.util.ClosureCleaner$.ensureSerializable(ClosureCleaner.scala:400)\u001b[0;0m",
      "\u001b[0;31m  ... 87 more\u001b[0;0m"
     ]
    }
   ],
   "source": [
    "dfCountryCurrency.display(10)"
   ]
  },
  {
   "cell_type": "code",
   "execution_count": null,
   "metadata": {},
   "outputs": [],
   "source": []
  }
 ],
 "metadata": {
  "kernelspec": {
   "display_name": "Scala",
   "language": "scala",
   "name": "scala"
  },
  "language_info": {
   "codemirror_mode": "text/x-scala",
   "file_extension": ".scala",
   "mimetype": "",
   "name": "Scala",
   "nbconverter_exporter": "",
   "version": "2.11.12"
  },
  "toc": {
   "base_numbering": 1,
   "nav_menu": {},
   "number_sections": true,
   "sideBar": true,
   "skip_h1_title": false,
   "title_cell": "Table of Contents",
   "title_sidebar": "Contents",
   "toc_cell": false,
   "toc_position": {},
   "toc_section_display": true,
   "toc_window_display": false
  }
 },
 "nbformat": 4,
 "nbformat_minor": 2
}
