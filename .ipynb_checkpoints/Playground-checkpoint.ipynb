{
 "cells": [
  {
   "cell_type": "code",
   "execution_count": 1,
   "metadata": {},
   "outputs": [],
   "source": [
    "import org.apache.spark.SparkConf\n",
    "import org.apache.spark.sql.{DataFrame, SparkSession}\n",
    "import org.apache.spark.ml.feature.{RegexTokenizer, Tokenizer,HashingTF, IDF,\n",
    "                                    StopWordsRemover,CountVectorizer, CountVectorizerModel,\n",
    "                                    StringIndexer,OneHotEncoderEstimator,VectorAssembler}\n",
    "import org.apache.spark.ml.linalg.Vectors\n",
    "import org.apache.spark.ml.tuning.{ParamGridBuilder,CrossValidator}\n",
    "import org.apache.spark.ml.evaluation.MulticlassClassificationEvaluator\n",
    "import org.apache.spark.sql.functions._\n",
    "import org.apache.spark.ml.{Pipeline, PipelineStage}\n",
    "import org.apache.spark.ml.classification.{LogisticRegression, LogisticRegressionModel}"
   ]
  },
  {
   "cell_type": "code",
   "execution_count": 2,
   "metadata": {},
   "outputs": [
    {
     "data": {
      "text/plain": [
       "df = [project_id: string, name: string ... 12 more fields]\n"
      ]
     },
     "metadata": {},
     "output_type": "display_data"
    },
    {
     "data": {
      "text/plain": [
       "[project_id: string, name: string ... 12 more fields]"
      ]
     },
     "execution_count": 2,
     "metadata": {},
     "output_type": "execute_result"
    }
   ],
   "source": [
    "val df: DataFrame = spark\n",
    "  .read\n",
    "  .option(\"inferSchema\", \"true\") // pour inférer le type de chaque colonne (Int, String, etc.)\n",
    "  .parquet(\"/Users/jeremieperes/MS_Big_data_Telecom/P1/INF729_Hadoop_Spark/Spark/spark_project_kickstarter_2019_2020/data/prepared_trainingset\")\n"
   ]
  },
  {
   "cell_type": "code",
   "execution_count": 67,
   "metadata": {},
   "outputs": [
    {
     "name": "stdout",
     "output_type": "stream",
     "text": [
      "+--------------+--------------------+--------------------+------+--------------------+------------+--------+---------+-------------------+-------------------+-------------------+-------------+-----------+--------------------+\n",
      "|    project_id|                name|                desc|  goal|            keywords|final_status|country2|currency2|          deadline2|        created_at2|       launched_at2|days_campaign|hours_prepa|                text|\n",
      "+--------------+--------------------+--------------------+------+--------------------+------------+--------+---------+-------------------+-------------------+-------------------+-------------+-----------+--------------------+\n",
      "| kkst471421639|american options ...|looking to create...|100000|american-options-...|           0|      US|      USD|2014-11-15 17:31:27|2014-10-10 21:23:58|2014-10-16 17:31:27|           30|    140.125|american options ...|\n",
      "|kkst1098019088|iheadbones bone c...|wireless bluetoot...| 20000|iheadbones-bone-c...|           0|      US|      USD|2014-11-15 17:37:42|2012-08-30 23:07:05|2014-10-16 17:37:42|           30|   18642.51|iheadbones bone c...|\n",
      "|kkst1719475563| the fridge magazine|the fridge is a n...|   700| the-fridge-magazine|           0|      US|      USD|2014-11-15 17:41:58|2014-09-02 17:35:56|2014-09-16 17:41:58|           60|    336.101|the fridge magazi...|\n",
      "| kkst564469925|support new men's...|it s been over 10...| 12800|support-new-mens-...|           0|      US|      USD|2014-11-15 17:44:42|2014-09-07 19:32:20|2014-09-16 17:44:42|           60|    214.206|support new men's...|\n",
      "|kkst1213811673|             can('t)|a psychological h...|  1500|              cant-0|           0|      US|      USD|2014-11-15 17:57:32|2014-11-04 00:25:15|2014-11-05 17:57:32|           10|     41.538|can('t) a psychol...|\n",
      "+--------------+--------------------+--------------------+------+--------------------+------------+--------+---------+-------------------+-------------------+-------------------+-------------+-----------+--------------------+\n",
      "only showing top 5 rows\n",
      "\n"
     ]
    }
   ],
   "source": [
    "df.show(5)"
   ]
  },
  {
   "cell_type": "code",
   "execution_count": 68,
   "metadata": {},
   "outputs": [
    {
     "name": "stdout",
     "output_type": "stream",
     "text": [
      "root\n",
      " |-- project_id: string (nullable = true)\n",
      " |-- name: string (nullable = true)\n",
      " |-- desc: string (nullable = true)\n",
      " |-- goal: integer (nullable = true)\n",
      " |-- keywords: string (nullable = true)\n",
      " |-- final_status: integer (nullable = true)\n",
      " |-- country2: string (nullable = true)\n",
      " |-- currency2: string (nullable = true)\n",
      " |-- deadline2: string (nullable = true)\n",
      " |-- created_at2: string (nullable = true)\n",
      " |-- launched_at2: string (nullable = true)\n",
      " |-- days_campaign: integer (nullable = true)\n",
      " |-- hours_prepa: double (nullable = true)\n",
      " |-- text: string (nullable = true)\n",
      "\n"
     ]
    }
   ],
   "source": [
    "df.printSchema"
   ]
  },
  {
   "cell_type": "code",
   "execution_count": 3,
   "metadata": {},
   "outputs": [
    {
     "data": {
      "text/plain": [
       "tokenizer = regexTok_08656503340b\n"
      ]
     },
     "metadata": {},
     "output_type": "display_data"
    },
    {
     "data": {
      "text/plain": [
       "regexTok_08656503340b"
      ]
     },
     "execution_count": 3,
     "metadata": {},
     "output_type": "execute_result"
    }
   ],
   "source": [
    "// Stage 1 : Get words \n",
    "val tokenizer = new RegexTokenizer()\n",
    "      .setPattern(\"\\\\W+\")\n",
    "      .setGaps(true)\n",
    "      .setInputCol(\"text\")\n",
    "      .setOutputCol(\"tokens\")"
   ]
  },
  {
   "cell_type": "code",
   "execution_count": 4,
   "metadata": {},
   "outputs": [
    {
     "data": {
      "text/plain": [
       "remover = stopWords_aee284b15dac\n"
      ]
     },
     "metadata": {},
     "output_type": "display_data"
    },
    {
     "data": {
      "text/plain": [
       "stopWords_aee284b15dac"
      ]
     },
     "execution_count": 4,
     "metadata": {},
     "output_type": "execute_result"
    }
   ],
   "source": [
    "// Stage 2 : Remove stop words \n",
    "val remover = new StopWordsRemover()\n",
    "  .setInputCol(tokenizer.getOutputCol)\n",
    "  .setOutputCol(\"words\")\n"
   ]
  },
  {
   "cell_type": "code",
   "execution_count": 5,
   "metadata": {},
   "outputs": [
    {
     "data": {
      "text/plain": [
       "hashingTF = hashingTF_42aae767d765\n"
      ]
     },
     "metadata": {},
     "output_type": "display_data"
    },
    {
     "data": {
      "text/plain": [
       "hashingTF_42aae767d765"
      ]
     },
     "execution_count": 5,
     "metadata": {},
     "output_type": "execute_result"
    }
   ],
   "source": [
    "// Stage 3 : TF\n",
    "val hashingTF = new HashingTF()\n",
    "  .setInputCol(remover.getOutputCol)\n",
    "  .setOutputCol(\"rawFeatures\")\n",
    "  .setNumFeatures(10000)"
   ]
  },
  {
   "cell_type": "code",
   "execution_count": 6,
   "metadata": {},
   "outputs": [
    {
     "data": {
      "text/plain": [
       "idf = idf_70e50de3eecd\n"
      ]
     },
     "metadata": {},
     "output_type": "display_data"
    },
    {
     "data": {
      "text/plain": [
       "idf_70e50de3eecd"
      ]
     },
     "execution_count": 6,
     "metadata": {},
     "output_type": "execute_result"
    }
   ],
   "source": [
    "// Stage 4 : IDF\n",
    "val idf = new IDF()\n",
    "    .setInputCol(hashingTF.getOutputCol)\n",
    "    .setOutputCol(\"tfidf\")"
   ]
  },
  {
   "cell_type": "code",
   "execution_count": 22,
   "metadata": {},
   "outputs": [
    {
     "data": {
      "text/plain": [
       "countryIndexer = strIdx_153b4e8035c8\n"
      ]
     },
     "metadata": {},
     "output_type": "display_data"
    },
    {
     "data": {
      "text/plain": [
       "lastException: Throwable = null\n"
      ]
     },
     "metadata": {},
     "output_type": "display_data"
    },
    {
     "data": {
      "text/plain": [
       "strIdx_153b4e8035c8"
      ]
     },
     "execution_count": 22,
     "metadata": {},
     "output_type": "execute_result"
    }
   ],
   "source": [
    "// Stage 5 : convert country2\n",
    "val countryIndexer = new StringIndexer()\n",
    "  .setInputCol(\"country2\")\n",
    "  .setOutputCol(\"country_indexed\")\n",
    "  .setHandleInvalid(\"keep\")"
   ]
  },
  {
   "cell_type": "code",
   "execution_count": 27,
   "metadata": {},
   "outputs": [
    {
     "data": {
      "text/plain": [
       "currencyIndexer = strIdx_baffb1649ff1\n"
      ]
     },
     "metadata": {},
     "output_type": "display_data"
    },
    {
     "data": {
      "text/plain": [
       "strIdx_baffb1649ff1"
      ]
     },
     "execution_count": 27,
     "metadata": {},
     "output_type": "execute_result"
    }
   ],
   "source": [
    "// Stage 6 : convert currency2\n",
    "val currencyIndexer = new StringIndexer()\n",
    "  .setInputCol(\"currency2\")\n",
    "  .setOutputCol(\"currency_indexed\")"
   ]
  },
  {
   "cell_type": "code",
   "execution_count": 28,
   "metadata": {},
   "outputs": [
    {
     "data": {
      "text/plain": [
       "encoder = oneHotEncoder_abb9a97f6d72\n"
      ]
     },
     "metadata": {},
     "output_type": "display_data"
    },
    {
     "data": {
      "text/plain": [
       "oneHotEncoder_abb9a97f6d72"
      ]
     },
     "execution_count": 28,
     "metadata": {},
     "output_type": "execute_result"
    }
   ],
   "source": [
    "// Stage 7-8 : One-Hot encoding for country and currency\n",
    "val encoder = new OneHotEncoderEstimator()\n",
    "    .setInputCols(Array(countryIndexer.getOutputCol, currencyIndexer.getOutputCol))\n",
    "    .setOutputCols(Array(\"country_onehot\", \"currency_onehot\"))"
   ]
  },
  {
   "cell_type": "code",
   "execution_count": 29,
   "metadata": {},
   "outputs": [
    {
     "data": {
      "text/plain": [
       "assembler = vecAssembler_69319796d049\n"
      ]
     },
     "metadata": {},
     "output_type": "display_data"
    },
    {
     "data": {
      "text/plain": [
       "vecAssembler_69319796d049"
      ]
     },
     "execution_count": 29,
     "metadata": {},
     "output_type": "execute_result"
    }
   ],
   "source": [
    "// Stage 9 : Vector features assembler\n",
    "val assembler = new VectorAssembler()\n",
    "    .setInputCols(Array(\"tfidf\", \"days_campaign\", \"hours_prepa\", \"goal\", \"country_onehot\", \"currency_onehot\"))\n",
    "    .setOutputCol(\"features\")"
   ]
  },
  {
   "cell_type": "code",
   "execution_count": 30,
   "metadata": {},
   "outputs": [
    {
     "data": {
      "text/plain": [
       "lr = logreg_193178e95256\n"
      ]
     },
     "metadata": {},
     "output_type": "display_data"
    },
    {
     "data": {
      "text/plain": [
       "logreg_193178e95256"
      ]
     },
     "execution_count": 30,
     "metadata": {},
     "output_type": "execute_result"
    }
   ],
   "source": [
    "// Stage 10 : Classification model - Logistic Regression\n",
    "val lr = new LogisticRegression()\n",
    "  .setElasticNetParam(0.0)\n",
    "  .setFitIntercept(true)\n",
    "  .setFeaturesCol(\"features\")\n",
    "  .setLabelCol(\"final_status\")\n",
    "  .setStandardization(true)\n",
    "  .setPredictionCol(\"predictions\")\n",
    "  .setRawPredictionCol(\"raw_predictions\")\n",
    "  .setThresholds(Array(0.7, 0.3))\n",
    "  .setTol(1.0e-6)\n",
    "  .setMaxIter(20)"
   ]
  },
  {
   "cell_type": "code",
   "execution_count": 31,
   "metadata": {},
   "outputs": [
    {
     "data": {
      "text/plain": [
       "pipeline = pipeline_800a06ff0348\n"
      ]
     },
     "metadata": {},
     "output_type": "display_data"
    },
    {
     "data": {
      "text/plain": [
       "pipeline_800a06ff0348"
      ]
     },
     "execution_count": 31,
     "metadata": {},
     "output_type": "execute_result"
    }
   ],
   "source": [
    "// Pipeline creation\n",
    "val pipeline = new Pipeline()\n",
    "    .setStages(Array(tokenizer,remover,hashingTF,idf,countryIndexer,currencyIndexer,encoder,assembler,lr))"
   ]
  },
  {
   "cell_type": "code",
   "execution_count": 32,
   "metadata": {},
   "outputs": [
    {
     "data": {
      "text/plain": [
       "trainingData = [project_id: string, name: string ... 12 more fields]\n",
       "testData = [project_id: string, name: string ... 12 more fields]\n"
      ]
     },
     "metadata": {},
     "output_type": "display_data"
    },
    {
     "data": {
      "text/plain": [
       "[project_id: string, name: string ... 12 more fields]"
      ]
     },
     "execution_count": 32,
     "metadata": {},
     "output_type": "execute_result"
    }
   ],
   "source": [
    "// Data splitting\n",
    "val Array(trainingData, testData) = df.randomSplit(Array(0.9, 0.1),42)"
   ]
  },
  {
   "cell_type": "code",
   "execution_count": 33,
   "metadata": {},
   "outputs": [
    {
     "data": {
      "text/plain": [
       "model = pipeline_800a06ff0348\n"
      ]
     },
     "metadata": {},
     "output_type": "display_data"
    },
    {
     "data": {
      "text/plain": [
       "pipeline_800a06ff0348"
      ]
     },
     "execution_count": 33,
     "metadata": {},
     "output_type": "execute_result"
    }
   ],
   "source": [
    "// Training model\n",
    "val model = pipeline.fit(trainingData)"
   ]
  },
  {
   "cell_type": "code",
   "execution_count": 131,
   "metadata": {},
   "outputs": [
    {
     "data": {
      "text/plain": [
       "dfWithSimplePredictions = [project_id: string, name: string ... 24 more fields]\n"
      ]
     },
     "metadata": {},
     "output_type": "display_data"
    },
    {
     "data": {
      "text/plain": [
       "[project_id: string, name: string ... 24 more fields]"
      ]
     },
     "execution_count": 131,
     "metadata": {},
     "output_type": "execute_result"
    }
   ],
   "source": [
    "// Make predictions.\n",
    "val dfWithSimplePredictions = model.transform(testData)"
   ]
  },
  {
   "cell_type": "code",
   "execution_count": 132,
   "metadata": {},
   "outputs": [
    {
     "name": "stdout",
     "output_type": "stream",
     "text": [
      "+------------+-----------+-----+\n",
      "|final_status|predictions|count|\n",
      "+------------+-----------+-----+\n",
      "|           1|        0.0| 1298|\n",
      "|           0|        0.0| 4498|\n",
      "|           1|        1.0| 2146|\n",
      "|           0|        1.0| 2807|\n",
      "+------------+-----------+-----+\n",
      "\n"
     ]
    }
   ],
   "source": [
    "dfWithSimplePredictions.groupBy(\"final_status\", \"predictions\").count.show()"
   ]
  },
  {
   "cell_type": "code",
   "execution_count": 17,
   "metadata": {},
   "outputs": [
    {
     "data": {
      "text/plain": [
       "evaluator = mcEval_8ce4054abf19\n"
      ]
     },
     "metadata": {},
     "output_type": "display_data"
    },
    {
     "data": {
      "text/plain": [
       "mcEval_8ce4054abf19"
      ]
     },
     "execution_count": 17,
     "metadata": {},
     "output_type": "execute_result"
    }
   ],
   "source": [
    "val evaluator = new MulticlassClassificationEvaluator()\n",
    "      .setLabelCol(\"final_status\")\n",
    "      .setPredictionCol(\"predictions\")\n",
    "      .setMetricName(\"f1\")"
   ]
  },
  {
   "cell_type": "code",
   "execution_count": 18,
   "metadata": {},
   "outputs": [
    {
     "data": {
      "text/plain": [
       "Name: Compile Error\n",
       "Message: <console>:38: error: not found: value dfWithSimplePredictions\n",
       "       val f1 = evaluator.evaluate(dfWithSimplePredictions)\n",
       "                                   ^\n",
       "\n",
       "StackTrace: "
      ]
     },
     "execution_count": 18,
     "metadata": {},
     "output_type": "execute_result"
    }
   ],
   "source": [
    "val f1 = evaluator.evaluate(dfWithSimplePredictions)"
   ]
  },
  {
   "cell_type": "code",
   "execution_count": 45,
   "metadata": {},
   "outputs": [
    {
     "data": {
      "text/plain": [
       "paramGrid = \n"
      ]
     },
     "metadata": {},
     "output_type": "display_data"
    },
    {
     "data": {
      "text/plain": [
       "Array({\n",
       "\tlogreg_193178e95256-maxIter: 20,\n",
       "\tlogreg_193178e95256-regParam: 1.0E-7\n",
       "}, {\n",
       "\tlogreg_193178e95256-maxIter: 20,\n",
       "\tlogreg_193178e95256-regParam: 1.0E-5\n",
       "}, {\n",
       "\tlogreg_193178e95256-maxIter: 20,\n",
       "\tlogreg_193178e95256-regParam: 0.001\n",
       "}, {\n",
       "\tlogreg_193178e95256-maxIter: 20,\n",
       "\tlogreg_193178e95256-regParam: 0.1\n",
       "}, {\n",
       "\tlogreg_193178e95256-maxIter: 35,\n",
       "\tlogreg_193178e95256-regParam: 1.0E-7\n",
       "}, {\n",
       "\tlogreg_193178e95256-maxIter: 35,\n",
       "\tlogreg_193178e95256-regParam: 1.0E-5\n",
       "}, {\n",
       "\tlogreg_193178e95256-maxIter: 35,\n",
       "\tlogreg_193178e95256-regParam: 0.001\n",
       "}, {\n",
       "\tlogreg_193178e95256-maxIter: 35,\n",
       "\tlogreg_193178e95256-regParam: 0.1\n",
       "}, {\n",
       "\tlogreg_193178e95256-maxIter: 50,\n",
       "\tlogreg_193178e95256-regParam: 1.0E-7\n",
       "}, {\n",
       "\tlogreg_193178e95256-maxIter: 50,\n",
       "\tlogreg_193178e...\n"
      ]
     },
     "metadata": {},
     "output_type": "display_data"
    }
   ],
   "source": [
    "val paramGrid = new ParamGridBuilder()\n",
    "    .addGrid(lr.regParam, Array(10e-8,10e-6,10e-4,10e-2))\n",
    "    .addGrid(lr.maxIter, Array(20,35,50))\n",
    "    .build()"
   ]
  },
  {
   "cell_type": "code",
   "execution_count": 46,
   "metadata": {},
   "outputs": [
    {
     "data": {
      "text/plain": [
       "cv = cv_febb5ecf9001\n"
      ]
     },
     "metadata": {},
     "output_type": "display_data"
    },
    {
     "data": {
      "text/plain": [
       "cv_febb5ecf9001"
      ]
     },
     "execution_count": 46,
     "metadata": {},
     "output_type": "execute_result"
    }
   ],
   "source": [
    "val cv = new CrossValidator()\n",
    "  .setEstimator(pipeline)\n",
    "  .setEvaluator(evaluator)\n",
    "  .setEstimatorParamMaps(paramGrid)\n",
    "  .setNumFolds(2) "
   ]
  },
  {
   "cell_type": "code",
   "execution_count": 47,
   "metadata": {},
   "outputs": [
    {
     "data": {
      "text/plain": [
       "cvmodel = cv_febb5ecf9001\n"
      ]
     },
     "metadata": {},
     "output_type": "display_data"
    },
    {
     "data": {
      "text/plain": [
       "cv_febb5ecf9001"
      ]
     },
     "execution_count": 47,
     "metadata": {},
     "output_type": "execute_result"
    }
   ],
   "source": [
    "val cvmodel = cv.fit(trainingData)"
   ]
  },
  {
   "cell_type": "code",
   "execution_count": 48,
   "metadata": {},
   "outputs": [
    {
     "data": {
      "text/plain": [
       "dfWithSimplePredictions = [project_id: string, name: string ... 24 more fields]\n"
      ]
     },
     "metadata": {},
     "output_type": "display_data"
    },
    {
     "data": {
      "text/plain": [
       "[project_id: string, name: string ... 24 more fields]"
      ]
     },
     "execution_count": 48,
     "metadata": {},
     "output_type": "execute_result"
    }
   ],
   "source": [
    "val dfWithSimplePredictions = cvmodel.transform(testData)"
   ]
  },
  {
   "cell_type": "code",
   "execution_count": 49,
   "metadata": {},
   "outputs": [
    {
     "data": {
      "text/plain": [
       "cvEvaluator = mcEval_f4720cc7e711\n"
      ]
     },
     "metadata": {},
     "output_type": "display_data"
    },
    {
     "data": {
      "text/plain": [
       "mcEval_f4720cc7e711"
      ]
     },
     "execution_count": 49,
     "metadata": {},
     "output_type": "execute_result"
    }
   ],
   "source": [
    "val cvEvaluator = new MulticlassClassificationEvaluator()\n",
    "      .setLabelCol(\"final_status\")\n",
    "      .setPredictionCol(\"predictions\")\n",
    "      .setMetricName(\"f1\")"
   ]
  },
  {
   "cell_type": "code",
   "execution_count": 50,
   "metadata": {},
   "outputs": [
    {
     "data": {
      "text/plain": [
       "cvF1 = 0.6340065068060643\n"
      ]
     },
     "metadata": {},
     "output_type": "display_data"
    },
    {
     "data": {
      "text/plain": [
       "0.6340065068060643"
      ]
     },
     "execution_count": 50,
     "metadata": {},
     "output_type": "execute_result"
    }
   ],
   "source": [
    "val cvF1 = cvEvaluator.evaluate(dfWithSimplePredictions)"
   ]
  },
  {
   "cell_type": "code",
   "execution_count": 39,
   "metadata": {},
   "outputs": [],
   "source": [
    "model.save(\"/Users/jeremieperes/MS_Big_data_Telecom/P1/INF729_Hadoop_Spark/Spark/spark_project_kickstarter_2019_2020/model\")"
   ]
  },
  {
   "cell_type": "code",
   "execution_count": null,
   "metadata": {},
   "outputs": [],
   "source": []
  }
 ],
 "metadata": {
  "kernelspec": {
   "display_name": "Apache Toree - Scala",
   "language": "scala",
   "name": "apache_toree_scala"
  },
  "language_info": {
   "codemirror_mode": "text/x-scala",
   "file_extension": ".scala",
   "mimetype": "text/x-scala",
   "name": "scala",
   "pygments_lexer": "scala",
   "version": "2.11.12"
  },
  "toc": {
   "base_numbering": 1,
   "nav_menu": {},
   "number_sections": false,
   "sideBar": false,
   "skip_h1_title": false,
   "title_cell": "Table of Contents",
   "title_sidebar": "Contents",
   "toc_cell": false,
   "toc_position": {},
   "toc_section_display": false,
   "toc_window_display": false
  }
 },
 "nbformat": 4,
 "nbformat_minor": 4
}
